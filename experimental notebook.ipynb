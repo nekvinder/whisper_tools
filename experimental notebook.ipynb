{
 "cells": [
  {
   "cell_type": "code",
   "execution_count": 4,
   "id": "726c08f9",
   "metadata": {},
   "outputs": [],
   "source": [
    "import spacy\n",
    "\n",
    "nlp = spacy.load(\"en_core_web_trf\")\n",
    "\n",
    "import en_core_web_trf\n",
    "nlp= en_core_web_trf.load()\n",
    "\n"
   ]
  },
  {
   "cell_type": "code",
   "execution_count": 26,
   "id": "0517c22d",
   "metadata": {},
   "outputs": [
    {
     "name": "stdout",
     "output_type": "stream",
     "text": [
      "loaded\n",
      "=>>> open  ['firefox']\n",
      "=>>> open  ['chrome']\n",
      "=>>> open  ['opera']\n",
      "=>>> open  ['opera']\n",
      "=>>> open  ['terminal']\n",
      "=>>> open new ['terminal']\n",
      "=>>> show  ['opera']\n",
      "=>>> search  ['docker', 'image', 'data']\n"
     ]
    }
   ],
   "source": [
    "print(\"loaded\")\n",
    "commands = [\n",
    "    \"hey can you please open the firefox\",\n",
    "    \"please open chrome\",\n",
    "    \"hey you please open opera\",\n",
    "    \"hey you open opera\",\n",
    "    \"you open terminal\",\n",
    "    \"you open a new terminal\",\n",
    "    \"hey please show me opera\",\n",
    "    \"please search for 'docker image data'\"\n",
    "]\n",
    "\n",
    "\n",
    "for command in commands:\n",
    "    doc = nlp(command)\n",
    "    verb = \"\"\n",
    "    adj = \"\"\n",
    "    noun = []\n",
    "#     print([(w.text, w.pos_) for w in doc])\n",
    "    for ent in doc:\n",
    "        if ent.pos_ == \"VERB\":\n",
    "            verb = ent.text\n",
    "        if ent.pos_ == \"NOUN\":\n",
    "            noun.append(ent.text)\n",
    "        if ent.pos_ == \"ADJ\":\n",
    "            adj = ent.text\n",
    "    print(f\"=>>> {verb} {adj} {noun}\")            \n"
   ]
  },
  {
   "cell_type": "code",
   "execution_count": null,
   "id": "de6cbd0c",
   "metadata": {},
   "outputs": [],
   "source": []
  }
 ],
 "metadata": {
  "kernelspec": {
   "display_name": "Python 3 (ipykernel)",
   "language": "python",
   "name": "python3"
  },
  "language_info": {
   "codemirror_mode": {
    "name": "ipython",
    "version": 3
   },
   "file_extension": ".py",
   "mimetype": "text/x-python",
   "name": "python",
   "nbconvert_exporter": "python",
   "pygments_lexer": "ipython3",
   "version": "3.10.10"
  }
 },
 "nbformat": 4,
 "nbformat_minor": 5
}
